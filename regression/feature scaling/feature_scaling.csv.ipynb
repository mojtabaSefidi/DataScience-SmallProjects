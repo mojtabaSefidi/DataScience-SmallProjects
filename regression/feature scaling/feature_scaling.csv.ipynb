{
 "cells": [
  {
   "cell_type": "code",
   "execution_count": 39,
   "metadata": {
    "collapsed": true,
    "pycharm": {
     "is_executing": false
    }
   },
   "outputs": [],
   "source": [
    "import pandas as pd\n",
    "from sklearn.linear_model import LinearRegression\n",
    "from sklearn.feature_selection import f_regression\n",
    "from sklearn.preprocessing import StandardScaler"
   ]
  },
  {
   "cell_type": "code",
   "execution_count": 40,
   "outputs": [
    {
     "data": {
      "text/plain": "        price     size  year\n0  234314.144   643.09  2015\n1  228581.528   656.22  2009\n2  281626.336   487.29  2018\n3  401255.608  1504.75  2015\n4  458674.256  1275.46  2009",
      "text/html": "<div>\n<style scoped>\n    .dataframe tbody tr th:only-of-type {\n        vertical-align: middle;\n    }\n\n    .dataframe tbody tr th {\n        vertical-align: top;\n    }\n\n    .dataframe thead th {\n        text-align: right;\n    }\n</style>\n<table border=\"1\" class=\"dataframe\">\n  <thead>\n    <tr style=\"text-align: right;\">\n      <th></th>\n      <th>price</th>\n      <th>size</th>\n      <th>year</th>\n    </tr>\n  </thead>\n  <tbody>\n    <tr>\n      <th>0</th>\n      <td>234314.144</td>\n      <td>643.09</td>\n      <td>2015</td>\n    </tr>\n    <tr>\n      <th>1</th>\n      <td>228581.528</td>\n      <td>656.22</td>\n      <td>2009</td>\n    </tr>\n    <tr>\n      <th>2</th>\n      <td>281626.336</td>\n      <td>487.29</td>\n      <td>2018</td>\n    </tr>\n    <tr>\n      <th>3</th>\n      <td>401255.608</td>\n      <td>1504.75</td>\n      <td>2015</td>\n    </tr>\n    <tr>\n      <th>4</th>\n      <td>458674.256</td>\n      <td>1275.46</td>\n      <td>2009</td>\n    </tr>\n  </tbody>\n</table>\n</div>"
     },
     "metadata": {},
     "output_type": "execute_result",
     "execution_count": 40
    }
   ],
   "source": [
    "data = pd.read_csv(\"real_estate_price_size_year.csv\")\n",
    "data.head()"
   ],
   "metadata": {
    "collapsed": false,
    "pycharm": {
     "name": "#%%\n",
     "is_executing": false
    }
   }
  },
  {
   "cell_type": "code",
   "execution_count": 41,
   "outputs": [
    {
     "data": {
      "text/plain": "               price         size         year\ncount     100.000000   100.000000   100.000000\nmean   292289.470160   853.024200  2012.600000\nstd     77051.727525   297.941951     4.729021\nmin    154282.128000   479.750000  2006.000000\n25%    234280.148000   643.330000  2009.000000\n50%    280590.716000   696.405000  2015.000000\n75%    335723.696000  1029.322500  2018.000000\nmax    500681.128000  1842.510000  2018.000000",
      "text/html": "<div>\n<style scoped>\n    .dataframe tbody tr th:only-of-type {\n        vertical-align: middle;\n    }\n\n    .dataframe tbody tr th {\n        vertical-align: top;\n    }\n\n    .dataframe thead th {\n        text-align: right;\n    }\n</style>\n<table border=\"1\" class=\"dataframe\">\n  <thead>\n    <tr style=\"text-align: right;\">\n      <th></th>\n      <th>price</th>\n      <th>size</th>\n      <th>year</th>\n    </tr>\n  </thead>\n  <tbody>\n    <tr>\n      <th>count</th>\n      <td>100.000000</td>\n      <td>100.000000</td>\n      <td>100.000000</td>\n    </tr>\n    <tr>\n      <th>mean</th>\n      <td>292289.470160</td>\n      <td>853.024200</td>\n      <td>2012.600000</td>\n    </tr>\n    <tr>\n      <th>std</th>\n      <td>77051.727525</td>\n      <td>297.941951</td>\n      <td>4.729021</td>\n    </tr>\n    <tr>\n      <th>min</th>\n      <td>154282.128000</td>\n      <td>479.750000</td>\n      <td>2006.000000</td>\n    </tr>\n    <tr>\n      <th>25%</th>\n      <td>234280.148000</td>\n      <td>643.330000</td>\n      <td>2009.000000</td>\n    </tr>\n    <tr>\n      <th>50%</th>\n      <td>280590.716000</td>\n      <td>696.405000</td>\n      <td>2015.000000</td>\n    </tr>\n    <tr>\n      <th>75%</th>\n      <td>335723.696000</td>\n      <td>1029.322500</td>\n      <td>2018.000000</td>\n    </tr>\n    <tr>\n      <th>max</th>\n      <td>500681.128000</td>\n      <td>1842.510000</td>\n      <td>2018.000000</td>\n    </tr>\n  </tbody>\n</table>\n</div>"
     },
     "metadata": {},
     "output_type": "execute_result",
     "execution_count": 41
    }
   ],
   "source": [
    "data.describe()\n"
   ],
   "metadata": {
    "collapsed": false,
    "pycharm": {
     "name": "#%%\n",
     "is_executing": false
    }
   }
  },
  {
   "cell_type": "code",
   "execution_count": 42,
   "outputs": [
    {
     "data": {
      "text/plain": "(100, 2)"
     },
     "metadata": {},
     "output_type": "execute_result",
     "execution_count": 42
    }
   ],
   "source": [
    "x = data[['size',\"year\"]]\n",
    "y = data[\"price\"]\n",
    "x.shape"
   ],
   "metadata": {
    "collapsed": false,
    "pycharm": {
     "name": "#%%\n",
     "is_executing": false
    }
   }
  },
  {
   "cell_type": "code",
   "execution_count": 43,
   "outputs": [],
   "source": [
    "scaler = StandardScaler()\n",
    "scaler.fit(x)\n",
    "x_scaled = scaler.transform(x)"
   ],
   "metadata": {
    "collapsed": false,
    "pycharm": {
     "name": "#%%\n",
     "is_executing": false
    }
   }
  },
  {
   "cell_type": "code",
   "execution_count": 44,
   "outputs": [
    {
     "data": {
      "text/plain": "array([[-0.70816415,  0.51006137],\n       [-0.66387316, -0.76509206],\n       [-1.23371919,  1.14763808],\n       [ 2.19844528,  0.51006137],\n       [ 1.42498884, -0.76509206],\n       [-0.937209  , -1.40266877],\n       [-0.95171405,  0.51006137],\n       [-0.78328682, -1.40266877],\n       [-0.57603328,  1.14763808],\n       [-0.53467702, -0.76509206],\n       [ 0.69939906, -0.76509206],\n       [ 3.33780001, -0.76509206],\n       [-0.53467702,  0.51006137],\n       [ 0.52699137,  1.14763808],\n       [ 1.51100715, -1.40266877],\n       [ 1.77668568, -1.40266877],\n       [-0.54810263,  1.14763808],\n       [-0.77276222, -1.40266877],\n       [-0.58004747, -1.40266877],\n       [ 0.58943055,  1.14763808],\n       [-0.78365788,  0.51006137],\n       [-1.02322731,  0.51006137],\n       [ 1.19557293,  0.51006137],\n       [-1.12884431,  0.51006137],\n       [-1.10378093, -0.76509206],\n       [ 0.84424715,  1.14763808],\n       [-0.95171405,  1.14763808],\n       [ 1.62279723,  0.51006137],\n       [-0.58004747,  0.51006137],\n       [ 2.17014356,  0.51006137],\n       [ 0.5306345 , -1.40266877],\n       [-0.58004747, -1.40266877],\n       [-0.8606021 , -0.76509206],\n       [-1.10378093,  0.51006137],\n       [ 0.015233  ,  1.14763808],\n       [-0.77603429,  1.14763808],\n       [-0.10057126, -1.40266877],\n       [-0.95387294, -1.40266877],\n       [-0.56517136,  1.14763808],\n       [-0.5219598 ,  0.51006137],\n       [ 0.56983186,  0.51006137],\n       [-0.57603328,  1.14763808],\n       [-0.10057126, -0.76509206],\n       [ 1.62279723, -0.76509206],\n       [ 0.69939906,  1.14763808],\n       [-0.5219598 ,  0.51006137],\n       [-0.7415595 , -0.76509206],\n       [-0.5219598 , -1.40266877],\n       [-0.7415595 ,  0.51006137],\n       [-0.79600403,  0.51006137],\n       [-0.69328805,  0.51006137],\n       [ 0.56983186,  0.51006137],\n       [ 0.56983186, -0.76509206],\n       [-0.42214483, -1.40266877],\n       [-0.69328805,  0.51006137],\n       [ 2.21224194,  1.14763808],\n       [ 0.6039356 ,  1.14763808],\n       [ 1.45329055,  0.51006137],\n       [-0.08495304, -1.40266877],\n       [-0.95751607,  0.51006137],\n       [-0.08387359,  1.14763808],\n       [-0.52125142,  0.51006137],\n       [ 1.18939985,  0.51006137],\n       [ 0.56983186, -0.76509206],\n       [-0.56517136,  0.51006137],\n       [-0.08748299,  0.51006137],\n       [ 0.52699137, -1.40266877],\n       [-1.02285625,  0.51006137],\n       [-0.56517136,  1.14763808],\n       [ 2.17014356, -1.40266877],\n       [ 0.56983186, -0.76509206],\n       [-0.70708471, -1.40266877],\n       [-0.66387316,  0.51006137],\n       [-1.02285625,  0.51006137],\n       [-0.56517136,  1.14763808],\n       [-0.56517136,  1.14763808],\n       [ 1.11464825,  1.14763808],\n       [ 1.62279723, -1.40266877],\n       [-0.57603328, -0.76509206],\n       [ 1.13205431, -1.40266877],\n       [-0.58004747, -1.40266877],\n       [ 0.90847416,  0.51006137],\n       [-0.58004747, -1.40266877],\n       [-0.70816415,  1.14763808],\n       [-0.56517136,  1.14763808],\n       [ 0.52699137,  1.14763808],\n       [-1.25915362, -1.40266877],\n       [ 0.59162317, -0.76509206],\n       [-0.84791862,  1.14763808],\n       [ 1.29501685,  1.14763808],\n       [-0.53467702,  1.14763808],\n       [ 0.73714592,  0.51006137],\n       [-0.53467702,  0.51006137],\n       [-0.5219598 ,  1.14763808],\n       [-0.5219598 , -1.40266877],\n       [-1.02285625, -0.76509206],\n       [ 0.62208377, -0.76509206],\n       [ 2.19844528, -1.40266877],\n       [-0.69062317,  0.51006137],\n       [-0.49834693, -1.40266877]])"
     },
     "metadata": {},
     "output_type": "execute_result",
     "execution_count": 44
    }
   ],
   "source": [
    "x_scaled"
   ],
   "metadata": {
    "collapsed": false,
    "pycharm": {
     "name": "#%%\n",
     "is_executing": false
    }
   }
  },
  {
   "cell_type": "code",
   "execution_count": 45,
   "outputs": [
    {
     "data": {
      "text/plain": "LinearRegression(copy_X=True, fit_intercept=True, n_jobs=None, normalize=False)"
     },
     "metadata": {},
     "output_type": "execute_result",
     "execution_count": 45
    }
   ],
   "source": [
    "reg = LinearRegression()\n",
    "reg.fit(x_scaled,y)"
   ],
   "metadata": {
    "collapsed": false,
    "pycharm": {
     "name": "#%%\n",
     "is_executing": false
    }
   }
  },
  {
   "cell_type": "code",
   "execution_count": 46,
   "outputs": [],
   "source": [
    "def adj_r2(x,y):\n",
    "    r2 = reg.score(x,y)\n",
    "    n = x.shape[0]\n",
    "    p = x.shape[1]\n",
    "    adjusted_r2 = 1-(1-r2)*(n-1)/(n-p-1)\n",
    "    return adjusted_r2"
   ],
   "metadata": {
    "collapsed": false,
    "pycharm": {
     "name": "#%%\n",
     "is_executing": false
    }
   }
  },
  {
   "cell_type": "code",
   "execution_count": 47,
   "outputs": [],
   "source": [
    "f_reg = f_regression(x_scaled,y)\n",
    "f_statistic = f_reg[0].round(3)\n",
    "p_val = f_reg[1].round(3)"
   ],
   "metadata": {
    "collapsed": false,
    "pycharm": {
     "name": "#%%\n",
     "is_executing": false
    }
   }
  },
  {
   "cell_type": "code",
   "execution_count": 53,
   "outputs": [
    {
     "data": {
      "text/plain": "  features        Weights  p_val f_statistic\n0     bias  292289.470160   None        None\n1     size   67501.576142      0     285.921\n2     year   13724.397082  0.357       0.855",
      "text/html": "<div>\n<style scoped>\n    .dataframe tbody tr th:only-of-type {\n        vertical-align: middle;\n    }\n\n    .dataframe tbody tr th {\n        vertical-align: top;\n    }\n\n    .dataframe thead th {\n        text-align: right;\n    }\n</style>\n<table border=\"1\" class=\"dataframe\">\n  <thead>\n    <tr style=\"text-align: right;\">\n      <th></th>\n      <th>features</th>\n      <th>Weights</th>\n      <th>p_val</th>\n      <th>f_statistic</th>\n    </tr>\n  </thead>\n  <tbody>\n    <tr>\n      <th>0</th>\n      <td>bias</td>\n      <td>292289.470160</td>\n      <td>None</td>\n      <td>None</td>\n    </tr>\n    <tr>\n      <th>1</th>\n      <td>size</td>\n      <td>67501.576142</td>\n      <td>0</td>\n      <td>285.921</td>\n    </tr>\n    <tr>\n      <th>2</th>\n      <td>year</td>\n      <td>13724.397082</td>\n      <td>0.357</td>\n      <td>0.855</td>\n    </tr>\n  </tbody>\n</table>\n</div>"
     },
     "metadata": {},
     "output_type": "execute_result",
     "execution_count": 53
    }
   ],
   "source": [
    "summary = pd.DataFrame(data=[[\"bias\"],[\"size\"],[\"year\"]],columns=[\"features\"])\n",
    "summary['Weights'] = reg.intercept_, reg.coef_[0], reg.coef_[1]\n",
    "summary[\"p_val\"] = None,p_val[0],p_val[1]\n",
    "summary[\"f_statistic\"] = None,f_statistic[0],f_statistic[1]\n",
    "summary\n"
   ],
   "metadata": {
    "collapsed": false,
    "pycharm": {
     "name": "#%%\n",
     "is_executing": false
    }
   }
  },
  {
   "cell_type": "code",
   "execution_count": 54,
   "outputs": [
    {
     "data": {
      "text/plain": "array([178070.84854337, 258330.34465995])"
     },
     "metadata": {},
     "output_type": "execute_result",
     "execution_count": 54
    }
   ],
   "source": [
    "new_data = [[500,2001],[750,2009]]\n",
    "new_data_scaled = scaler.transform(new_data)\n",
    "reg.predict(new_data_scaled)"
   ],
   "metadata": {
    "collapsed": false,
    "pycharm": {
     "name": "#%%\n",
     "is_executing": false
    }
   }
  },
  {
   "cell_type": "code",
   "execution_count": 56,
   "outputs": [
    {
     "data": {
      "text/plain": "0.77187171612825"
     },
     "metadata": {},
     "output_type": "execute_result",
     "execution_count": 56
    }
   ],
   "source": [
    "adj_r2(x_scaled,y)"
   ],
   "metadata": {
    "collapsed": false,
    "pycharm": {
     "name": "#%%\n",
     "is_executing": false
    }
   }
  },
  {
   "cell_type": "code",
   "execution_count": 57,
   "outputs": [
    {
     "data": {
      "text/plain": "0.7764803683276793"
     },
     "metadata": {},
     "output_type": "execute_result",
     "execution_count": 57
    }
   ],
   "source": [
    "reg.score(x_scaled,y)\n"
   ],
   "metadata": {
    "collapsed": false,
    "pycharm": {
     "name": "#%%\n",
     "is_executing": false
    }
   }
  }
 ],
 "metadata": {
  "kernelspec": {
   "display_name": "Python 3",
   "language": "python",
   "name": "python3"
  },
  "language_info": {
   "codemirror_mode": {
    "name": "ipython",
    "version": 2
   },
   "file_extension": ".py",
   "mimetype": "text/x-python",
   "name": "python",
   "nbconvert_exporter": "python",
   "pygments_lexer": "ipython2",
   "version": "2.7.6"
  },
  "pycharm": {
   "stem_cell": {
    "cell_type": "raw",
    "source": [],
    "metadata": {
     "collapsed": false
    }
   }
  }
 },
 "nbformat": 4,
 "nbformat_minor": 0
}