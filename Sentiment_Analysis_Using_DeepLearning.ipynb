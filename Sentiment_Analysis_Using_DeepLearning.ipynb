{
  "nbformat": 4,
  "nbformat_minor": 0,
  "metadata": {
    "colab": {
      "provenance": [],
      "authorship_tag": "ABX9TyNWNFXbUNSscVa5yA0C+PIl",
      "include_colab_link": true
    },
    "kernelspec": {
      "name": "python3",
      "display_name": "Python 3"
    },
    "language_info": {
      "name": "python"
    }
  },
  "cells": [
    {
      "cell_type": "markdown",
      "metadata": {
        "id": "view-in-github",
        "colab_type": "text"
      },
      "source": [
        "<a href=\"https://colab.research.google.com/github/mojtabaSefidi/DataScience-SmallProjects/blob/master/Sentiment_Analysis_Using_DeepLearning.ipynb\" target=\"_parent\"><img src=\"https://colab.research.google.com/assets/colab-badge.svg\" alt=\"Open In Colab\"/></a>"
      ]
    },
    {
      "cell_type": "markdown",
      "source": [
        "## **Dataset**"
      ],
      "metadata": {
        "id": "Ok-hdGvlV5YR"
      }
    },
    {
      "cell_type": "markdown",
      "source": [
        "### **Inroduction**"
      ],
      "metadata": {
        "id": "N317eHS8WP1y"
      }
    },
    {
      "cell_type": "code",
      "source": [],
      "metadata": {
        "id": "Enr9sRzDWWT9"
      },
      "execution_count": null,
      "outputs": []
    },
    {
      "cell_type": "markdown",
      "source": [
        "### **Analysis**"
      ],
      "metadata": {
        "id": "KuvI99qlWjO7"
      }
    },
    {
      "cell_type": "code",
      "execution_count": null,
      "metadata": {
        "id": "hoqT9cHxTTHZ"
      },
      "outputs": [],
      "source": []
    },
    {
      "cell_type": "markdown",
      "source": [
        "## **Pre-Processing**"
      ],
      "metadata": {
        "id": "dBLbmnjmWm7k"
      }
    },
    {
      "cell_type": "code",
      "source": [],
      "metadata": {
        "id": "JKbkT1rXV30Q"
      },
      "execution_count": null,
      "outputs": []
    },
    {
      "cell_type": "markdown",
      "source": [
        "## **Text Representation**"
      ],
      "metadata": {
        "id": "wWjqlupLW8im"
      }
    },
    {
      "cell_type": "markdown",
      "source": [
        "### **TF-IDF**"
      ],
      "metadata": {
        "id": "Js0ie8jgW_8X"
      }
    },
    {
      "cell_type": "code",
      "source": [],
      "metadata": {
        "id": "wOPf2kqwV3xx"
      },
      "execution_count": null,
      "outputs": []
    },
    {
      "cell_type": "markdown",
      "source": [
        "### **N-Grams**"
      ],
      "metadata": {
        "id": "_COYWAwZXDfJ"
      }
    },
    {
      "cell_type": "code",
      "source": [],
      "metadata": {
        "id": "Al7heu0HV3u4"
      },
      "execution_count": null,
      "outputs": []
    },
    {
      "cell_type": "markdown",
      "source": [
        "### **Continuous Bag of Words (CBOW)**"
      ],
      "metadata": {
        "id": "OUGXFQ5xXO91"
      }
    },
    {
      "cell_type": "code",
      "source": [],
      "metadata": {
        "id": "g3O9PQtUXPXW"
      },
      "execution_count": null,
      "outputs": []
    },
    {
      "cell_type": "markdown",
      "source": [
        "### **Glove**"
      ],
      "metadata": {
        "id": "JLHYsTB4XKbU"
      }
    },
    {
      "cell_type": "code",
      "source": [],
      "metadata": {
        "id": "fk13VEVBV3sQ"
      },
      "execution_count": null,
      "outputs": []
    },
    {
      "cell_type": "markdown",
      "source": [
        "### **Skipgram**"
      ],
      "metadata": {
        "id": "k2ypl6OuXNzN"
      }
    },
    {
      "cell_type": "code",
      "source": [],
      "metadata": {
        "id": "XR0e43HRV3pw"
      },
      "execution_count": null,
      "outputs": []
    },
    {
      "cell_type": "markdown",
      "source": [
        "### **Bert Pretrained model**"
      ],
      "metadata": {
        "id": "mi0aTCrcXkdf"
      }
    },
    {
      "cell_type": "code",
      "source": [],
      "metadata": {
        "id": "pJzGVLT4XkE_"
      },
      "execution_count": null,
      "outputs": []
    },
    {
      "cell_type": "markdown",
      "source": [
        "### **Visualization**"
      ],
      "metadata": {
        "id": "J8cbFRohXxW9"
      }
    },
    {
      "cell_type": "code",
      "source": [],
      "metadata": {
        "id": "rlVOxMrIXfw9"
      },
      "execution_count": null,
      "outputs": []
    },
    {
      "cell_type": "markdown",
      "source": [
        "## **Baseline Model**"
      ],
      "metadata": {
        "id": "3rp-rRwqX7cR"
      }
    },
    {
      "cell_type": "code",
      "source": [],
      "metadata": {
        "id": "uuj48vWqXfud"
      },
      "execution_count": null,
      "outputs": []
    },
    {
      "cell_type": "markdown",
      "source": [
        "### **Model Architecture**"
      ],
      "metadata": {
        "id": "8lQZZj4jYKiZ"
      }
    },
    {
      "cell_type": "code",
      "source": [],
      "metadata": {
        "id": "FOLM0T_RYLUQ"
      },
      "execution_count": null,
      "outputs": []
    },
    {
      "cell_type": "markdown",
      "source": [
        "### **Model Training & Evaluation**"
      ],
      "metadata": {
        "id": "IHUPG3QeYfox"
      }
    },
    {
      "cell_type": "code",
      "source": [],
      "metadata": {
        "id": "eQJQ3gZRYfTp"
      },
      "execution_count": null,
      "outputs": []
    },
    {
      "cell_type": "markdown",
      "source": [
        "### **Comparison Study**"
      ],
      "metadata": {
        "id": "FBA8opAPYqVW"
      }
    },
    {
      "cell_type": "code",
      "source": [],
      "metadata": {
        "id": "-7_wqVJxYLR7"
      },
      "execution_count": null,
      "outputs": []
    },
    {
      "cell_type": "markdown",
      "source": [
        "### **Comparing with pre-trained model**"
      ],
      "metadata": {
        "id": "CGzsbBHtY4Fk"
      }
    },
    {
      "cell_type": "code",
      "source": [],
      "metadata": {
        "id": "EjiVz1BkYLPY"
      },
      "execution_count": null,
      "outputs": []
    },
    {
      "cell_type": "markdown",
      "source": [
        "## **Inference**"
      ],
      "metadata": {
        "id": "ORAPp7ZyZK7k"
      }
    },
    {
      "cell_type": "code",
      "source": [],
      "metadata": {
        "id": "8TbC8N9zYK34"
      },
      "execution_count": null,
      "outputs": []
    }
  ]
}