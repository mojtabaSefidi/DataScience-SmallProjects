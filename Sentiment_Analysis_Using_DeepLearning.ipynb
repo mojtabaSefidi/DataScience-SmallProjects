{
  "nbformat": 4,
  "nbformat_minor": 0,
  "metadata": {
    "colab": {
      "provenance": [],
      "collapsed_sections": [
        "KuvI99qlWjO7",
        "dBLbmnjmWm7k",
        "wWjqlupLW8im",
        "mi0aTCrcXkdf",
        "J8cbFRohXxW9",
        "3rp-rRwqX7cR",
        "ORAPp7ZyZK7k"
      ],
      "authorship_tag": "ABX9TyNvnn676h4Ta0XWNJ1a7f8H",
      "include_colab_link": true
    },
    "kernelspec": {
      "name": "python3",
      "display_name": "Python 3"
    },
    "language_info": {
      "name": "python"
    }
  },
  "cells": [
    {
      "cell_type": "markdown",
      "metadata": {
        "id": "view-in-github",
        "colab_type": "text"
      },
      "source": [
        "<a href=\"https://colab.research.google.com/github/mojtabaSefidi/DataScience-SmallProjects/blob/master/Sentiment_Analysis_Using_DeepLearning.ipynb\" target=\"_parent\"><img src=\"https://colab.research.google.com/assets/colab-badge.svg\" alt=\"Open In Colab\"/></a>"
      ]
    },
    {
      "cell_type": "code",
      "source": [
        "import os"
      ],
      "metadata": {
        "id": "bkM12_K7pswv"
      },
      "execution_count": 1,
      "outputs": []
    },
    {
      "cell_type": "markdown",
      "source": [
        "## **Dataset**"
      ],
      "metadata": {
        "id": "Ok-hdGvlV5YR"
      }
    },
    {
      "cell_type": "markdown",
      "source": [
        "### **Capturing dataset from Kaggle**"
      ],
      "metadata": {
        "id": "40bhA1XxgUOL"
      }
    },
    {
      "cell_type": "code",
      "source": [
        "!gdown 1R8waoO4GA-0SiyfadnSDcY4FeuNkTV3A\n",
        "! pip install -q kaggle\n",
        "! mkdir ~/.kaggle\n",
        "! cp kaggle.json ~/.kaggle/\n",
        "! chmod 600 ~/.kaggle/kaggle.json\n",
        "! kaggle datasets download -d kritanjalijain/amazon-reviews\n",
        "!unzip /content/amazon-reviews.zip\n",
        "os.rename('test.csv', 'Amazon_Review_Test.csv')\n",
        "os.rename('train.csv', 'Amazon_Review_Train.csv')\n",
        "os.remove(\"amazon-reviews.zip\")"
      ],
      "metadata": {
        "id": "inuSHxPEgTWb",
        "colab": {
          "base_uri": "https://localhost:8080/"
        },
        "outputId": "20c62a91-13d5-4771-9b0b-d7adec1417c3"
      },
      "execution_count": 2,
      "outputs": [
        {
          "output_type": "stream",
          "name": "stdout",
          "text": [
            "Downloading...\n",
            "From: https://drive.google.com/uc?id=1R8waoO4GA-0SiyfadnSDcY4FeuNkTV3A\n",
            "To: /content/kaggle.json\n",
            "100% 73.0/73.0 [00:00<00:00, 289kB/s]\n",
            "Downloading amazon-reviews.zip to /content\n",
            " 99% 1.29G/1.29G [00:13<00:00, 51.1MB/s]\n",
            "100% 1.29G/1.29G [00:13<00:00, 106MB/s] \n",
            "Archive:  /content/amazon-reviews.zip\n",
            "  inflating: amazon_review_polarity_csv.tgz  \n",
            "  inflating: test.csv                \n",
            "  inflating: train.csv               \n"
          ]
        }
      ]
    },
    {
      "cell_type": "markdown",
      "source": [
        "### **Inroduction**"
      ],
      "metadata": {
        "id": "N317eHS8WP1y"
      }
    },
    {
      "cell_type": "code",
      "source": [],
      "metadata": {
        "id": "Enr9sRzDWWT9"
      },
      "execution_count": null,
      "outputs": []
    },
    {
      "cell_type": "markdown",
      "source": [
        "### **Analysis**"
      ],
      "metadata": {
        "id": "KuvI99qlWjO7"
      }
    },
    {
      "cell_type": "code",
      "execution_count": null,
      "metadata": {
        "id": "hoqT9cHxTTHZ"
      },
      "outputs": [],
      "source": []
    },
    {
      "cell_type": "markdown",
      "source": [
        "## **Pre-Processing**"
      ],
      "metadata": {
        "id": "dBLbmnjmWm7k"
      }
    },
    {
      "cell_type": "code",
      "source": [],
      "metadata": {
        "id": "JKbkT1rXV30Q"
      },
      "execution_count": null,
      "outputs": []
    },
    {
      "cell_type": "markdown",
      "source": [
        "## **Text Representation**"
      ],
      "metadata": {
        "id": "wWjqlupLW8im"
      }
    },
    {
      "cell_type": "markdown",
      "source": [
        "### **TF-IDF**"
      ],
      "metadata": {
        "id": "Js0ie8jgW_8X"
      }
    },
    {
      "cell_type": "code",
      "source": [],
      "metadata": {
        "id": "wOPf2kqwV3xx"
      },
      "execution_count": null,
      "outputs": []
    },
    {
      "cell_type": "markdown",
      "source": [
        "### **N-Grams**"
      ],
      "metadata": {
        "id": "_COYWAwZXDfJ"
      }
    },
    {
      "cell_type": "code",
      "source": [],
      "metadata": {
        "id": "Al7heu0HV3u4"
      },
      "execution_count": null,
      "outputs": []
    },
    {
      "cell_type": "markdown",
      "source": [
        "### **Continuous Bag of Words (CBOW)**"
      ],
      "metadata": {
        "id": "OUGXFQ5xXO91"
      }
    },
    {
      "cell_type": "code",
      "source": [],
      "metadata": {
        "id": "g3O9PQtUXPXW"
      },
      "execution_count": null,
      "outputs": []
    },
    {
      "cell_type": "markdown",
      "source": [
        "### **Glove**"
      ],
      "metadata": {
        "id": "JLHYsTB4XKbU"
      }
    },
    {
      "cell_type": "code",
      "source": [],
      "metadata": {
        "id": "fk13VEVBV3sQ"
      },
      "execution_count": null,
      "outputs": []
    },
    {
      "cell_type": "markdown",
      "source": [
        "### **Skipgram**"
      ],
      "metadata": {
        "id": "k2ypl6OuXNzN"
      }
    },
    {
      "cell_type": "code",
      "source": [],
      "metadata": {
        "id": "XR0e43HRV3pw"
      },
      "execution_count": null,
      "outputs": []
    },
    {
      "cell_type": "markdown",
      "source": [
        "### **Bert Pretrained model**"
      ],
      "metadata": {
        "id": "mi0aTCrcXkdf"
      }
    },
    {
      "cell_type": "code",
      "source": [],
      "metadata": {
        "id": "pJzGVLT4XkE_"
      },
      "execution_count": null,
      "outputs": []
    },
    {
      "cell_type": "markdown",
      "source": [
        "### **Visualization**"
      ],
      "metadata": {
        "id": "J8cbFRohXxW9"
      }
    },
    {
      "cell_type": "code",
      "source": [],
      "metadata": {
        "id": "rlVOxMrIXfw9"
      },
      "execution_count": null,
      "outputs": []
    },
    {
      "cell_type": "markdown",
      "source": [
        "## **Baseline Model**"
      ],
      "metadata": {
        "id": "3rp-rRwqX7cR"
      }
    },
    {
      "cell_type": "code",
      "source": [],
      "metadata": {
        "id": "uuj48vWqXfud"
      },
      "execution_count": null,
      "outputs": []
    },
    {
      "cell_type": "markdown",
      "source": [
        "### **Model Architecture**"
      ],
      "metadata": {
        "id": "8lQZZj4jYKiZ"
      }
    },
    {
      "cell_type": "code",
      "source": [],
      "metadata": {
        "id": "FOLM0T_RYLUQ"
      },
      "execution_count": null,
      "outputs": []
    },
    {
      "cell_type": "markdown",
      "source": [
        "### **Model Training & Evaluation**"
      ],
      "metadata": {
        "id": "IHUPG3QeYfox"
      }
    },
    {
      "cell_type": "code",
      "source": [],
      "metadata": {
        "id": "eQJQ3gZRYfTp"
      },
      "execution_count": null,
      "outputs": []
    },
    {
      "cell_type": "markdown",
      "source": [
        "### **Comparison Study**"
      ],
      "metadata": {
        "id": "FBA8opAPYqVW"
      }
    },
    {
      "cell_type": "code",
      "source": [],
      "metadata": {
        "id": "-7_wqVJxYLR7"
      },
      "execution_count": null,
      "outputs": []
    },
    {
      "cell_type": "markdown",
      "source": [
        "### **Comparing with pre-trained model**"
      ],
      "metadata": {
        "id": "CGzsbBHtY4Fk"
      }
    },
    {
      "cell_type": "code",
      "source": [],
      "metadata": {
        "id": "EjiVz1BkYLPY"
      },
      "execution_count": null,
      "outputs": []
    },
    {
      "cell_type": "markdown",
      "source": [
        "## **Inference**"
      ],
      "metadata": {
        "id": "ORAPp7ZyZK7k"
      }
    },
    {
      "cell_type": "code",
      "source": [],
      "metadata": {
        "id": "8TbC8N9zYK34"
      },
      "execution_count": null,
      "outputs": []
    }
  ]
}