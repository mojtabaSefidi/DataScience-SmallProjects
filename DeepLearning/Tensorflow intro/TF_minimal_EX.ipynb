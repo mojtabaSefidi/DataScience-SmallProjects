{
 "cells": [
  {
   "cell_type": "code",
   "execution_count": 37,
   "metadata": {
    "collapsed": true,
    "pycharm": {
     "is_executing": false
    }
   },
   "outputs": [],
   "source": [
    "import tensorflow as tf\n",
    "import matplotlib.pyplot as plt\n",
    "import numpy as np"
   ]
  },
  {
   "cell_type": "code",
   "execution_count": 38,
   "outputs": [],
   "source": [
    "observation = 1500\n",
    "x1 = np.random.uniform(low=-10,high=10,size=(observation,1))\n",
    "x2 = np.random.uniform(low=-10,high=10,size=(observation,1))\n",
    "generated_inputs = np.column_stack((x1,x2))\n",
    "noise = np.random.uniform(low=-1,high=1,size=(observation,1))\n",
    "generated_targets = 7.5*x1 - 11*x2 -3.5 + noise\n",
    "np.savez(\"TF_intro\",inputs=generated_inputs,targets=generated_targets)\n"
   ],
   "metadata": {
    "collapsed": false,
    "pycharm": {
     "name": "#%%\n",
     "is_executing": false
    }
   }
  },
  {
   "cell_type": "code",
   "execution_count": 39,
   "outputs": [],
   "source": [
    "data = np.load(\"TF_intro.npz\")\n"
   ],
   "metadata": {
    "collapsed": false,
    "pycharm": {
     "name": "#%%\n",
     "is_executing": false
    }
   }
  },
  {
   "cell_type": "code",
   "execution_count": 40,
   "outputs": [
    {
     "name": "stdout",
     "text": [
      "Epoch 1/100\n",
      "1500/1500 - 0s - loss: 186.4991\n",
      "Epoch 2/100\n",
      "1500/1500 - 0s - loss: 0.3989\n",
      "Epoch 3/100\n",
      "1500/1500 - 0s - loss: 0.3568\n",
      "Epoch 4/100\n",
      "1500/1500 - 0s - loss: 0.3949\n",
      "Epoch 5/100\n",
      "1500/1500 - 0s - loss: 0.3768\n",
      "Epoch 6/100\n",
      "1500/1500 - 0s - loss: 0.4243\n",
      "Epoch 7/100\n",
      "1500/1500 - 0s - loss: 0.3766\n",
      "Epoch 8/100\n",
      "1500/1500 - 0s - loss: 0.3770\n",
      "Epoch 9/100\n",
      "1500/1500 - 0s - loss: 0.3937\n",
      "Epoch 10/100\n",
      "1500/1500 - 0s - loss: 0.3771\n",
      "Epoch 11/100\n",
      "1500/1500 - 0s - loss: 0.3765\n",
      "Epoch 12/100\n",
      "1500/1500 - 0s - loss: 0.3947\n",
      "Epoch 13/100\n",
      "1500/1500 - 0s - loss: 0.3817\n",
      "Epoch 14/100\n",
      "1500/1500 - 0s - loss: 0.3682\n",
      "Epoch 15/100\n",
      "1500/1500 - 0s - loss: 0.3947\n",
      "Epoch 16/100\n",
      "1500/1500 - 0s - loss: 0.3892\n",
      "Epoch 17/100\n",
      "1500/1500 - 0s - loss: 0.3738\n",
      "Epoch 18/100\n",
      "1500/1500 - 0s - loss: 0.3775\n",
      "Epoch 19/100\n",
      "1500/1500 - 0s - loss: 0.3858\n",
      "Epoch 20/100\n",
      "1500/1500 - 0s - loss: 0.3805\n",
      "Epoch 21/100\n",
      "1500/1500 - 0s - loss: 0.3813\n",
      "Epoch 22/100\n",
      "1500/1500 - 0s - loss: 0.3858\n",
      "Epoch 23/100\n",
      "1500/1500 - 0s - loss: 0.3883\n",
      "Epoch 24/100\n",
      "1500/1500 - 0s - loss: 0.3909\n",
      "Epoch 25/100\n",
      "1500/1500 - 0s - loss: 0.3909\n",
      "Epoch 26/100\n",
      "1500/1500 - 0s - loss: 0.3885\n",
      "Epoch 27/100\n",
      "1500/1500 - 0s - loss: 0.3666\n",
      "Epoch 28/100\n",
      "1500/1500 - 0s - loss: 0.3895\n",
      "Epoch 29/100\n",
      "1500/1500 - 0s - loss: 0.4048\n",
      "Epoch 30/100\n",
      "1500/1500 - 0s - loss: 0.3700\n",
      "Epoch 31/100\n",
      "1500/1500 - 0s - loss: 0.3633\n",
      "Epoch 32/100\n",
      "1500/1500 - 0s - loss: 0.3780\n",
      "Epoch 33/100\n",
      "1500/1500 - 0s - loss: 0.3794\n",
      "Epoch 34/100\n",
      "1500/1500 - 0s - loss: 0.3666\n",
      "Epoch 35/100\n",
      "1500/1500 - 0s - loss: 0.3518\n",
      "Epoch 36/100\n",
      "1500/1500 - 0s - loss: 0.3755\n",
      "Epoch 37/100\n",
      "1500/1500 - 0s - loss: 0.3814\n",
      "Epoch 38/100\n",
      "1500/1500 - 0s - loss: 0.3675\n",
      "Epoch 39/100\n",
      "1500/1500 - 0s - loss: 0.3762\n",
      "Epoch 40/100\n",
      "1500/1500 - 0s - loss: 0.3848\n",
      "Epoch 41/100\n",
      "1500/1500 - 0s - loss: 0.4080\n",
      "Epoch 42/100\n",
      "1500/1500 - 0s - loss: 0.4043\n",
      "Epoch 43/100\n",
      "1500/1500 - 0s - loss: 0.3882\n",
      "Epoch 44/100\n",
      "1500/1500 - 0s - loss: 0.3787\n",
      "Epoch 45/100\n",
      "1500/1500 - 0s - loss: 0.3693\n",
      "Epoch 46/100\n",
      "1500/1500 - 0s - loss: 0.3907\n",
      "Epoch 47/100\n",
      "1500/1500 - 0s - loss: 0.3589\n",
      "Epoch 48/100\n",
      "1500/1500 - 0s - loss: 0.3990\n",
      "Epoch 49/100\n",
      "1500/1500 - 0s - loss: 0.4122\n",
      "Epoch 50/100\n",
      "1500/1500 - 0s - loss: 0.3992\n",
      "Epoch 51/100\n",
      "1500/1500 - 0s - loss: 0.3790\n",
      "Epoch 52/100\n",
      "1500/1500 - 0s - loss: 0.3695\n",
      "Epoch 53/100\n",
      "1500/1500 - 0s - loss: 0.3893\n",
      "Epoch 54/100\n",
      "1500/1500 - 0s - loss: 0.3847\n",
      "Epoch 55/100\n",
      "1500/1500 - 0s - loss: 0.4020\n",
      "Epoch 56/100\n",
      "1500/1500 - 0s - loss: 0.3912\n",
      "Epoch 57/100\n",
      "1500/1500 - 0s - loss: 0.3748\n",
      "Epoch 58/100\n",
      "1500/1500 - 0s - loss: 0.4010\n",
      "Epoch 59/100\n",
      "1500/1500 - 0s - loss: 0.4183\n",
      "Epoch 60/100\n",
      "1500/1500 - 0s - loss: 0.3933\n",
      "Epoch 61/100\n",
      "1500/1500 - 0s - loss: 0.3660\n",
      "Epoch 62/100\n",
      "1500/1500 - 0s - loss: 0.3681\n",
      "Epoch 63/100\n",
      "1500/1500 - 0s - loss: 0.3498\n",
      "Epoch 64/100\n",
      "1500/1500 - 0s - loss: 0.3660\n",
      "Epoch 65/100\n",
      "1500/1500 - 0s - loss: 0.3826\n",
      "Epoch 66/100\n",
      "1500/1500 - 0s - loss: 0.3714\n",
      "Epoch 67/100\n",
      "1500/1500 - 0s - loss: 0.3980\n",
      "Epoch 68/100\n",
      "1500/1500 - 0s - loss: 0.3921\n",
      "Epoch 69/100\n",
      "1500/1500 - 0s - loss: 0.3648\n",
      "Epoch 70/100\n",
      "1500/1500 - 0s - loss: 0.3818\n",
      "Epoch 71/100\n",
      "1500/1500 - 0s - loss: 0.3870\n",
      "Epoch 72/100\n",
      "1500/1500 - 0s - loss: 0.3671\n",
      "Epoch 73/100\n",
      "1500/1500 - 0s - loss: 0.3699\n",
      "Epoch 74/100\n",
      "1500/1500 - 0s - loss: 0.3954\n",
      "Epoch 75/100\n",
      "1500/1500 - 0s - loss: 0.3864\n",
      "Epoch 76/100\n",
      "1500/1500 - 0s - loss: 0.3859\n",
      "Epoch 77/100\n",
      "1500/1500 - 0s - loss: 0.3889\n",
      "Epoch 78/100\n",
      "1500/1500 - 0s - loss: 0.3734\n",
      "Epoch 79/100\n",
      "1500/1500 - 0s - loss: 0.3661\n",
      "Epoch 80/100\n",
      "1500/1500 - 0s - loss: 0.4364\n",
      "Epoch 81/100\n",
      "1500/1500 - 0s - loss: 0.3799\n",
      "Epoch 82/100\n",
      "1500/1500 - 0s - loss: 0.3769\n",
      "Epoch 83/100\n",
      "1500/1500 - 0s - loss: 0.3694\n",
      "Epoch 84/100\n",
      "1500/1500 - 0s - loss: 0.3716\n",
      "Epoch 85/100\n",
      "1500/1500 - 0s - loss: 0.3487\n",
      "Epoch 86/100\n",
      "1500/1500 - 0s - loss: 0.3696\n",
      "Epoch 87/100\n",
      "1500/1500 - 0s - loss: 0.3698\n",
      "Epoch 88/100\n",
      "1500/1500 - 0s - loss: 0.3785\n",
      "Epoch 89/100\n",
      "1500/1500 - 0s - loss: 0.4004\n",
      "Epoch 90/100\n",
      "1500/1500 - 0s - loss: 0.3742\n",
      "Epoch 91/100\n",
      "1500/1500 - 0s - loss: 0.3822\n",
      "Epoch 92/100\n",
      "1500/1500 - 0s - loss: 0.3854\n",
      "Epoch 93/100\n",
      "1500/1500 - 0s - loss: 0.3722\n",
      "Epoch 94/100\n",
      "1500/1500 - 0s - loss: 0.3819\n",
      "Epoch 95/100\n",
      "1500/1500 - 0s - loss: 0.3957\n",
      "Epoch 96/100\n",
      "1500/1500 - 0s - loss: 0.3813\n",
      "Epoch 97/100\n",
      "1500/1500 - 0s - loss: 0.3737\n",
      "Epoch 98/100\n",
      "1500/1500 - 0s - loss: 0.3709\n",
      "Epoch 99/100\n",
      "1500/1500 - 0s - loss: 0.3733\n",
      "Epoch 100/100\n",
      "1500/1500 - 0s - loss: 0.3768\n"
     ],
     "output_type": "stream"
    },
    {
     "data": {
      "text/plain": "<tensorflow.python.keras.callbacks.History at 0x2aff4624b48>"
     },
     "metadata": {},
     "output_type": "execute_result",
     "execution_count": 40
    }
   ],
   "source": [
    "input_size = 2\n",
    "output_size = 1\n",
    "model = tf.keras.Sequential([tf.keras.layers.Dense(output_size,\n",
    "                                                   kernel_initializer=tf.random_uniform_initializer(-0.1,0.1),\n",
    "                                                   bias_initializer=tf.random_uniform_initializer(-0.1,0.1))\n",
    "                         \n",
    "                             ])\n",
    "optimizer = tf.keras.optimizers.SGD(learning_rate=0.02)\n",
    "model.compile(optimizer=optimizer,loss=\"mean_squared_error\")\n",
    "model.fit(data['inputs'], data['targets'], epochs=100, verbose=2)\n"
   ],
   "metadata": {
    "collapsed": false,
    "pycharm": {
     "name": "#%%\n",
     "is_executing": false
    }
   }
  },
  {
   "cell_type": "code",
   "execution_count": 41,
   "outputs": [
    {
     "data": {
      "text/plain": "[array([[  7.5060782],\n        [-10.990955 ]], dtype=float32),\n array([-3.4976861], dtype=float32)]"
     },
     "metadata": {},
     "output_type": "execute_result",
     "execution_count": 41
    }
   ],
   "source": [
    "model.layers[0].get_weights()\n"
   ],
   "metadata": {
    "collapsed": false,
    "pycharm": {
     "name": "#%%\n",
     "is_executing": false
    }
   }
  },
  {
   "cell_type": "code",
   "execution_count": 42,
   "outputs": [
    {
     "data": {
      "text/plain": "array([[  7.5060782],\n       [-10.990955 ]], dtype=float32)"
     },
     "metadata": {},
     "output_type": "execute_result",
     "execution_count": 42
    }
   ],
   "source": [
    "weights = model.layers[0].get_weights()[0]\n",
    "weights"
   ],
   "metadata": {
    "collapsed": false,
    "pycharm": {
     "name": "#%%\n",
     "is_executing": false
    }
   }
  },
  {
   "cell_type": "code",
   "execution_count": 43,
   "outputs": [
    {
     "data": {
      "text/plain": "array([-3.4976861], dtype=float32)"
     },
     "metadata": {},
     "output_type": "execute_result",
     "execution_count": 43
    }
   ],
   "source": [
    "bias = model.layers[0].get_weights()[1]\n",
    "bias"
   ],
   "metadata": {
    "collapsed": false,
    "pycharm": {
     "name": "#%%\n",
     "is_executing": false
    }
   }
  },
  {
   "cell_type": "code",
   "execution_count": 44,
   "outputs": [
    {
     "data": {
      "text/plain": "array([[ 66.75],\n       [-79.75],\n       [-40.48],\n       ...,\n       [119.02],\n       [117.94],\n       [-39.49]], dtype=float32)"
     },
     "metadata": {},
     "output_type": "execute_result",
     "execution_count": 44
    }
   ],
   "source": [
    "model.predict_on_batch(data[\"inputs\"]).round(2)"
   ],
   "metadata": {
    "collapsed": false,
    "pycharm": {
     "name": "#%%\n",
     "is_executing": false
    }
   }
  },
  {
   "cell_type": "code",
   "execution_count": 45,
   "outputs": [
    {
     "data": {
      "text/plain": "array([[ 66.13],\n       [-79.07],\n       [-40.45],\n       ...,\n       [119.64],\n       [118.49],\n       [-40.27]])"
     },
     "metadata": {},
     "output_type": "execute_result",
     "execution_count": 45
    }
   ],
   "source": [
    "data[\"targets\"].round(2)"
   ],
   "metadata": {
    "collapsed": false,
    "pycharm": {
     "name": "#%%\n",
     "is_executing": false
    }
   }
  },
  {
   "cell_type": "code",
   "execution_count": 47,
   "outputs": [
    {
     "data": {
      "text/plain": "<Figure size 432x288 with 1 Axes>",
      "image/png": "[encoded data removed]"
     },
     "metadata": {
      "needs_background": "light"
     },
     "output_type": "display_data"
    }
   ],
   "source": [
    "# plt.plot(np.squeeze(model.predict_on_batch(data['inputs'])),np.squeeze(data[\"targets\"]))\n",
    "plt.plot(model.predict_on_batch(data['inputs']),data[\"targets\"])\n",
    "\n",
    "plt.xlabel('outputs')\n",
    "plt.ylabel('targets')\n",
    "plt.show()\n"
   ],
   "metadata": {
    "collapsed": false,
    "pycharm": {
     "name": "#%%\n",
     "is_executing": false
    }
   }
  }
 ],
 "metadata": {
  "kernelspec": {
   "display_name": "Python 3",
   "language": "python",
   "name": "python3"
  },
  "language_info": {
   "codemirror_mode": {
    "name": "ipython",
    "version": 2
   },
   "file_extension": ".py",
   "mimetype": "text/x-python",
   "name": "python",
   "nbconvert_exporter": "python",
   "pygments_lexer": "ipython2",
   "version": "2.7.6"
  },
  "pycharm": {
   "stem_cell": {
    "cell_type": "raw",
    "source": [],
    "metadata": {
     "collapsed": false
    }
   }
  }
 },
 "nbformat": 4,
 "nbformat_minor": 0
}