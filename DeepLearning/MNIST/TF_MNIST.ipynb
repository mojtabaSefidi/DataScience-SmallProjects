{
 "cells": [
  {
   "cell_type": "code",
   "execution_count": 26,
   "metadata": {
    "collapsed": true,
    "pycharm": {
     "is_executing": false
    }
   },
   "outputs": [
    {
     "name": "stdout",
     "text": [
      "Extracting MNIST_data/train-images-idx3-ubyte.gz\n",
      "Extracting MNIST_data/train-labels-idx1-ubyte.gz\n",
      "Extracting MNIST_data/t10k-images-idx3-ubyte.gz\n",
      "Extracting MNIST_data/t10k-labels-idx1-ubyte.gz\n"
     ],
     "output_type": "stream"
    }
   ],
   "source": [
    "import tensorflow as tf\n",
    "from tensorflow.examples.tutorials.mnist import input_data\n",
    "mnist = input_data.read_data_sets(\"MNIST_data/\",one_hot=True)"
   ]
  },
  {
   "cell_type": "code",
   "execution_count": 27,
   "outputs": [
    {
     "name": "stderr",
     "text": [
      "c:\\users\\mojtaba\\appdata\\local\\programs\\python\\python37\\lib\\site-packages\\tensorflow\\python\\client\\session.py:1735: UserWarning: An interactive session is already active. This can cause out-of-memory errors in some cases. You must explicitly call `InteractiveSession.close()` to release resources held by the other session(s).\n",
      "  warnings.warn('An interactive session is already active. This can '\n"
     ],
     "output_type": "stream"
    },
    {
     "name": "stdout",
     "text": [
      "Epoch 1. Mean loss: 0.266. Validation loss: 0.152. Validation accuracy: 95.56%\n",
      "Epoch 2. Mean loss: 0.145. Validation loss: 0.133. Validation accuracy: 96.12%\n",
      "Epoch 3. Mean loss: 0.124. Validation loss: 0.131. Validation accuracy: 96.02%\n",
      "Epoch 4. Mean loss: 0.112. Validation loss: 0.139. Validation accuracy: 96.18%\n",
      "End of training.\n"
     ],
     "output_type": "stream"
    }
   ],
   "source": [
    "input_size = 784\n",
    "output_size = 10\n",
    "hidden_layer_size = 50\n",
    "\n",
    "tf.reset_default_graph()\n",
    "\n",
    "inputs = tf.placeholder(tf.float32,[None,input_size])\n",
    "targets = tf.placeholder(tf.float32,[None,output_size])\n",
    "\n",
    "weights1 = tf.get_variable(\"weights1\",[input_size,hidden_layer_size])\n",
    "bias1 = tf.get_variable(\"bias1\",[hidden_layer_size])\n",
    "outputs1 = tf.nn.relu(tf.matmul(inputs, weights1) + bias1)\n",
    "\n",
    "\n",
    "weights2 = tf.get_variable(\"weights2\",[hidden_layer_size,hidden_layer_size])\n",
    "bias2 = tf.get_variable(\"bias2\",[hidden_layer_size])\n",
    "outputs2 = tf.nn.relu(tf.matmul(outputs1,weights2)+bias2)\n",
    "\n",
    "weights3 = tf.get_variable(\"weights3\",[hidden_layer_size,output_size])\n",
    "bias3 = tf.get_variable(\"bias3\",[output_size])\n",
    "outputs = tf.matmul(outputs2,weights3)+bias3\n",
    "\n",
    "loss = tf.nn.softmax_cross_entropy_with_logits(logits=outputs,labels=targets)\n",
    "mean_loss = tf.reduce_mean(loss)\n",
    "\n",
    "optimize = tf.train.AdamOptimizer(learning_rate=0.01).minimize(mean_loss)\n",
    "out_equals_target = tf.equal(tf.argmax(outputs, 1), tf.argmax(targets, 1))\n",
    "\n",
    "accuracy = tf.reduce_mean(tf.cast(out_equals_target,tf.float32))\n",
    "\n",
    "sess = tf.InteractiveSession()\n",
    "initializer = tf.global_variables_initializer()\n",
    "sess.run(initializer)\n",
    "\n",
    "batch_size = 100\n",
    "batch_num = mnist.train._num_examples//batch_size\n",
    "max_epochs = 15\n",
    "prev_validation_loss = 9999999.\n",
    "\n",
    "\n",
    "for epoch_counter in range(max_epochs):\n",
    "    \n",
    "    curr_epoch_loss = 0.\n",
    "    \n",
    "    for batch_counter in range(batch_num):\n",
    "        \n",
    "        input_batch, target_batch = mnist.train.next_batch(batch_size)\n",
    "        \n",
    "        _, batch_loss = sess.run([optimize, mean_loss], \n",
    "            feed_dict={inputs: input_batch, targets: target_batch})\n",
    "        \n",
    "        curr_epoch_loss += batch_loss\n",
    "    \n",
    "    curr_epoch_loss /= batch_num\n",
    "    \n",
    "    input_batch, target_batch = mnist.validation.next_batch(mnist.validation._num_examples)\n",
    "    \n",
    "    validation_loss, validation_accuracy = sess.run([mean_loss, accuracy], \n",
    "        feed_dict={inputs: input_batch, targets: target_batch})\n",
    "    \n",
    "    print('Epoch '+str(epoch_counter+1)+\n",
    "          '. Mean loss: '+'{0:.3f}'.format(curr_epoch_loss)+\n",
    "          '. Validation loss: '+'{0:.3f}'.format(validation_loss)+\n",
    "          '. Validation accuracy: '+'{0:.2f}'.format(validation_accuracy * 100.)+'%')\n",
    "    \n",
    "    if validation_loss > prev_validation_loss:\n",
    "        break\n",
    "        \n",
    "    prev_validation_loss = validation_loss\n",
    "\n",
    "print('End of training.')"
   ],
   "metadata": {
    "collapsed": false,
    "pycharm": {
     "name": "#%%\n",
     "is_executing": false
    }
   }
  },
  {
   "cell_type": "code",
   "execution_count": 28,
   "outputs": [
    {
     "name": "stdout",
     "text": [
      "Test accuracy: 96.24%\n"
     ],
     "output_type": "stream"
    }
   ],
   "source": [
    "input_batch, target_batch = mnist.test.next_batch(mnist.test._num_examples)\n",
    "test_accuracy = sess.run([accuracy], \n",
    "    feed_dict={inputs: input_batch, targets: target_batch})\n",
    "test_accuracy_percent = test_accuracy[0] * 100.\n",
    "print('Test accuracy: '+'{0:.2f}'.format(test_accuracy_percent)+'%')"
   ],
   "metadata": {
    "collapsed": false,
    "pycharm": {
     "name": "#%%\n",
     "is_executing": false
    }
   }
  }
 ],
 "metadata": {
  "kernelspec": {
   "display_name": "Python 3",
   "language": "python",
   "name": "python3"
  },
  "language_info": {
   "codemirror_mode": {
    "name": "ipython",
    "version": 2
   },
   "file_extension": ".py",
   "mimetype": "text/x-python",
   "name": "python",
   "nbconvert_exporter": "python",
   "pygments_lexer": "ipython2",
   "version": "2.7.6"
  },
  "pycharm": {
   "stem_cell": {
    "cell_type": "raw",
    "source": [],
    "metadata": {
     "collapsed": false
    }
   }
  }
 },
 "nbformat": 4,
 "nbformat_minor": 0
}