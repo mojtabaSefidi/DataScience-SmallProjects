{
 "cells": [
  {
   "cell_type": "code",
   "execution_count": 6,
   "outputs": [],
   "source": [
    "import numpy as np\n",
    "import tensorflow as tf"
   ],
   "metadata": {
    "collapsed": false,
    "pycharm": {
     "name": "#%%\n",
     "is_executing": false
    }
   }
  },
  {
   "cell_type": "code",
   "execution_count": 7,
   "outputs": [],
   "source": [
    "npz = np.load(\"audiobooks_data_train.npz\")\n",
    "train_inputs = npz[\"inputs\"].astype(np.float)\n",
    "train_targets = npz[\"targets\"].astype(np.int)\n",
    "\n",
    "npz = np.load(\"audiobooks_data_validation.npz\")\n",
    "validation_inputs = npz[\"inputs\"].astype(np.float)\n",
    "validation_targets = npz[\"targets\"].astype(np.int)\n",
    "\n",
    "npz = np.load(\"audiobooks_data_test.npz\")\n",
    "test_inputs = npz[\"inputs\"].astype(np.float)\n",
    "test_targets = npz[\"targets\"].astype(np.int)"
   ],
   "metadata": {
    "collapsed": false,
    "pycharm": {
     "name": "#%%\n",
     "is_executing": false
    }
   }
  },
  {
   "cell_type": "code",
   "execution_count": 8,
   "outputs": [
    {
     "name": "stdout",
     "text": [
      "Train on 3579 samples, validate on 447 samples\n",
      "Epoch 1/100\n",
      "3579/3579 - 0s - loss: 0.5636 - acc: 0.7497 - val_loss: 0.4376 - val_acc: 0.8725\n",
      "Epoch 2/100\n",
      "3579/3579 - 0s - loss: 0.3758 - acc: 0.8701 - val_loss: 0.3329 - val_acc: 0.8814\n",
      "Epoch 3/100\n",
      "3579/3579 - 0s - loss: 0.3175 - acc: 0.8826 - val_loss: 0.3070 - val_acc: 0.8837\n",
      "Epoch 4/100\n",
      "3579/3579 - 0s - loss: 0.2955 - acc: 0.8885 - val_loss: 0.2890 - val_acc: 0.8904\n",
      "Epoch 5/100\n",
      "3579/3579 - 0s - loss: 0.2818 - acc: 0.8913 - val_loss: 0.2831 - val_acc: 0.8926\n",
      "Epoch 6/100\n",
      "3579/3579 - 0s - loss: 0.2724 - acc: 0.8975 - val_loss: 0.2759 - val_acc: 0.8971\n",
      "Epoch 7/100\n",
      "3579/3579 - 0s - loss: 0.2651 - acc: 0.8989 - val_loss: 0.2688 - val_acc: 0.9016\n",
      "Epoch 8/100\n",
      "3579/3579 - 0s - loss: 0.2606 - acc: 0.9011 - val_loss: 0.2633 - val_acc: 0.9016\n",
      "Epoch 9/100\n",
      "3579/3579 - 0s - loss: 0.2540 - acc: 0.9014 - val_loss: 0.2644 - val_acc: 0.9016\n",
      "Epoch 10/100\n",
      "3579/3579 - 0s - loss: 0.2508 - acc: 0.9028 - val_loss: 0.2611 - val_acc: 0.9038\n",
      "Epoch 11/100\n",
      "3579/3579 - 0s - loss: 0.2474 - acc: 0.9033 - val_loss: 0.2559 - val_acc: 0.9083\n",
      "Epoch 12/100\n",
      "3579/3579 - 0s - loss: 0.2466 - acc: 0.9039 - val_loss: 0.2734 - val_acc: 0.8949\n",
      "Epoch 13/100\n",
      "3579/3579 - 0s - loss: 0.2453 - acc: 0.9075 - val_loss: 0.2587 - val_acc: 0.9016\n"
     ],
     "output_type": "stream"
    },
    {
     "data": {
      "text/plain": "<tensorflow.python.keras.callbacks.History at 0x29994757908>"
     },
     "metadata": {},
     "output_type": "execute_result",
     "execution_count": 8
    }
   ],
   "source": [
    "input_size = 10\n",
    "output_size = 2\n",
    "hidden_layer_size = 50\n",
    "\n",
    "model = tf.keras.Sequential([\n",
    "    tf.keras.layers.Dense(hidden_layer_size,activation=\"relu\"),\n",
    "    tf.keras.layers.Dense(hidden_layer_size,activation=\"relu\"),\n",
    "    tf.keras.layers.Dense(output_size,activation=\"softmax\")\n",
    "])\n",
    "\n",
    "model.compile(optimizer='adam', loss='sparse_categorical_crossentropy', metrics=['accuracy'])\n",
    "\n",
    "batch_size = 100\n",
    "max_epochs = 100\n",
    "\n",
    "early_stopping = tf.keras.callbacks.EarlyStopping(patience=2)\n",
    "\n",
    "model.fit(train_inputs,\n",
    "          train_targets,\n",
    "          batch_size=batch_size,\n",
    "          epochs=max_epochs,\n",
    "          callbacks=[early_stopping],\n",
    "          validation_data=(validation_inputs,validation_targets),\n",
    "          verbose=2\n",
    "          )\n"
   ],
   "metadata": {
    "collapsed": false,
    "pycharm": {
     "name": "#%%\n",
     "is_executing": false
    }
   }
  },
  {
   "cell_type": "code",
   "execution_count": 9,
   "outputs": [
    {
     "name": "stdout",
     "text": [
      "447/447 [==============================] - 0s 31us/sample - loss: 0.2587 - acc: 0.9016\b\b\b\b\b\b\b\b\b\b\b\b\b\b\b\b\b\b\b\b\b\b\b\b\b\b\b\b\b\b\b\b\b\b\b\b\b\b\b\b\b\b\b\b\b\b\b\b\b\b\b\b\b\b\b\b\b\b\b\b\b\b\b\b\b\b\b\b\b\b\b\b\n"
     ],
     "output_type": "stream"
    }
   ],
   "source": [
    "test_loss,test_accuracy = model.evaluate(test_inputs,test_targets)"
   ],
   "metadata": {
    "collapsed": false,
    "pycharm": {
     "name": "#%%\n",
     "is_executing": false
    }
   }
  },
  {
   "cell_type": "code",
   "execution_count": 10,
   "outputs": [
    {
     "name": "stdout",
     "text": [
      "\n",
      "Test loss: 0.26. Test accuracy: 90.16%\n"
     ],
     "output_type": "stream"
    }
   ],
   "source": [
    "print('\\nTest loss: {0:.2f}. Test accuracy: {1:.2f}%'.format(test_loss, test_accuracy*100.))\n",
    "\n",
    "\n"
   ],
   "metadata": {
    "collapsed": false,
    "pycharm": {
     "name": "#%%\n",
     "is_executing": false
    }
   }
  }
 ],
 "metadata": {
  "kernelspec": {
   "display_name": "Python 3",
   "language": "python",
   "name": "python3"
  },
  "language_info": {
   "codemirror_mode": {
    "name": "ipython",
    "version": 2
   },
   "file_extension": ".py",
   "mimetype": "text/x-python",
   "name": "python",
   "nbconvert_exporter": "python",
   "pygments_lexer": "ipython2",
   "version": "2.7.6"
  },
  "pycharm": {
   "stem_cell": {
    "cell_type": "raw",
    "source": [],
    "metadata": {
     "collapsed": false
    }
   }
  }
 },
 "nbformat": 4,
 "nbformat_minor": 0
}