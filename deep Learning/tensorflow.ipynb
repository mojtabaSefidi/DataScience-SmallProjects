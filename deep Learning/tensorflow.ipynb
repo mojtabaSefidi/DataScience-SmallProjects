{
 "cells": [
  {
   "cell_type": "code",
   "execution_count": 8,
   "metadata": {
    "collapsed": true,
    "pycharm": {
     "is_executing": false
    }
   },
   "outputs": [],
   "source": [
    "import numpy as np\n",
    "import matplotlib.pyplot as plt\n",
    "import tensorflow as tf\n"
   ]
  },
  {
   "cell_type": "code",
   "execution_count": 9,
   "outputs": [],
   "source": [
    "observation = 1000\n",
    "x1 = np.random.uniform(-10,10,(observation,1))\n",
    "x2 = np.random.uniform(-10,10,(observation,1))\n",
    "inputs = np.column_stack((x1,x2))\n",
    "noise = np.random.uniform(-1,1,(observation,1))\n",
    "targets = -4*x1 + 7*x2 + 15+ noise\n",
    "targets.shape\n",
    "np.savez('TF-intro',inputs=inputs,targets=targets)"
   ],
   "metadata": {
    "collapsed": false,
    "pycharm": {
     "name": "#%%\n",
     "is_executing": false
    }
   }
  },
  {
   "cell_type": "code",
   "execution_count": 10,
   "outputs": [],
   "source": [
    "learning_data = np.load(\"TF-intro.npz\")\n",
    "input_size = 2 \n",
    "output_size = 1\n"
   ],
   "metadata": {
    "collapsed": false,
    "pycharm": {
     "name": "#%%\n",
     "is_executing": false
    }
   }
  },
  {
   "cell_type": "code",
   "execution_count": 11,
   "outputs": [
    {
     "name": "stdout",
     "text": [
      "Epoch 1/100\n",
      "1000/1000 - 0s - loss: 161.8115\n",
      "Epoch 2/100\n",
      "1000/1000 - 0s - loss: 8.2977\n",
      "Epoch 3/100\n",
      "1000/1000 - 0s - loss: 0.9507\n",
      "Epoch 4/100\n",
      "1000/1000 - 0s - loss: 0.4253\n",
      "Epoch 5/100\n",
      "1000/1000 - 0s - loss: 0.4187\n",
      "Epoch 6/100\n",
      "1000/1000 - 0s - loss: 0.3662\n",
      "Epoch 7/100\n",
      "1000/1000 - 0s - loss: 0.4231\n",
      "Epoch 8/100\n",
      "1000/1000 - 0s - loss: 0.3775\n",
      "Epoch 9/100\n",
      "1000/1000 - 0s - loss: 0.4461\n",
      "Epoch 10/100\n",
      "1000/1000 - 0s - loss: 0.3892\n",
      "Epoch 11/100\n",
      "1000/1000 - 0s - loss: 0.3705\n",
      "Epoch 12/100\n",
      "1000/1000 - 0s - loss: 0.3768\n",
      "Epoch 13/100\n",
      "1000/1000 - 0s - loss: 0.3621\n",
      "Epoch 14/100\n",
      "1000/1000 - 0s - loss: 0.3571\n",
      "Epoch 15/100\n",
      "1000/1000 - 0s - loss: 0.4163\n",
      "Epoch 16/100\n",
      "1000/1000 - 0s - loss: 0.4428\n",
      "Epoch 17/100\n",
      "1000/1000 - 0s - loss: 0.3794\n",
      "Epoch 18/100\n",
      "1000/1000 - 0s - loss: 0.3827\n",
      "Epoch 19/100\n",
      "1000/1000 - 0s - loss: 0.3874\n",
      "Epoch 20/100\n",
      "1000/1000 - 0s - loss: 0.3816\n",
      "Epoch 21/100\n",
      "1000/1000 - 0s - loss: 0.3887\n",
      "Epoch 22/100\n",
      "1000/1000 - 0s - loss: 0.3926\n",
      "Epoch 23/100\n",
      "1000/1000 - 0s - loss: 0.3936\n",
      "Epoch 24/100\n",
      "1000/1000 - 0s - loss: 0.4260\n",
      "Epoch 25/100\n",
      "1000/1000 - 0s - loss: 0.3783\n",
      "Epoch 26/100\n",
      "1000/1000 - 0s - loss: 0.4204\n",
      "Epoch 27/100\n",
      "1000/1000 - 0s - loss: 0.4087\n",
      "Epoch 28/100\n",
      "1000/1000 - 0s - loss: 0.4035\n",
      "Epoch 29/100\n",
      "1000/1000 - 0s - loss: 0.3735\n",
      "Epoch 30/100\n",
      "1000/1000 - 0s - loss: 0.3691\n",
      "Epoch 31/100\n",
      "1000/1000 - 0s - loss: 0.3943\n",
      "Epoch 32/100\n",
      "1000/1000 - 0s - loss: 0.4211\n",
      "Epoch 33/100\n",
      "1000/1000 - 0s - loss: 0.3942\n",
      "Epoch 34/100\n",
      "1000/1000 - 0s - loss: 0.3779\n",
      "Epoch 35/100\n",
      "1000/1000 - 0s - loss: 0.3863\n",
      "Epoch 36/100\n",
      "1000/1000 - 0s - loss: 0.3873\n",
      "Epoch 37/100\n",
      "1000/1000 - 0s - loss: 0.3955\n",
      "Epoch 38/100\n",
      "1000/1000 - 0s - loss: 0.4190\n",
      "Epoch 39/100\n",
      "1000/1000 - 0s - loss: 0.3940\n",
      "Epoch 40/100\n",
      "1000/1000 - 0s - loss: 0.3981\n",
      "Epoch 41/100\n",
      "1000/1000 - 0s - loss: 0.3862\n",
      "Epoch 42/100\n",
      "1000/1000 - 0s - loss: 0.4025\n",
      "Epoch 43/100\n",
      "1000/1000 - 0s - loss: 0.3816\n",
      "Epoch 44/100\n",
      "1000/1000 - 0s - loss: 0.3750\n",
      "Epoch 45/100\n",
      "1000/1000 - 0s - loss: 0.4517\n",
      "Epoch 46/100\n",
      "1000/1000 - 0s - loss: 0.3999\n",
      "Epoch 47/100\n",
      "1000/1000 - 0s - loss: 0.3611\n",
      "Epoch 48/100\n",
      "1000/1000 - 0s - loss: 0.3813\n",
      "Epoch 49/100\n",
      "1000/1000 - 0s - loss: 0.3713\n",
      "Epoch 50/100\n",
      "1000/1000 - 0s - loss: 0.3976\n",
      "Epoch 51/100\n",
      "1000/1000 - 0s - loss: 0.4208\n",
      "Epoch 52/100\n",
      "1000/1000 - 0s - loss: 0.4111\n",
      "Epoch 53/100\n",
      "1000/1000 - 0s - loss: 0.3900\n",
      "Epoch 54/100\n",
      "1000/1000 - 0s - loss: 0.4271\n",
      "Epoch 55/100\n",
      "1000/1000 - 0s - loss: 0.4011\n",
      "Epoch 56/100\n",
      "1000/1000 - 0s - loss: 0.3892\n",
      "Epoch 57/100\n",
      "1000/1000 - 0s - loss: 0.4246\n",
      "Epoch 58/100\n",
      "1000/1000 - 0s - loss: 0.3695\n",
      "Epoch 59/100\n",
      "1000/1000 - 0s - loss: 0.3744\n",
      "Epoch 60/100\n",
      "1000/1000 - 0s - loss: 0.3589\n",
      "Epoch 61/100\n",
      "1000/1000 - 0s - loss: 0.4076\n",
      "Epoch 62/100\n",
      "1000/1000 - 0s - loss: 0.4410\n",
      "Epoch 63/100\n",
      "1000/1000 - 0s - loss: 0.3891\n",
      "Epoch 64/100\n",
      "1000/1000 - 0s - loss: 0.3946\n",
      "Epoch 65/100\n",
      "1000/1000 - 0s - loss: 0.4291\n",
      "Epoch 66/100\n",
      "1000/1000 - 0s - loss: 0.3649\n",
      "Epoch 67/100\n",
      "1000/1000 - 0s - loss: 0.3783\n",
      "Epoch 68/100\n",
      "1000/1000 - 0s - loss: 0.3775\n",
      "Epoch 69/100\n",
      "1000/1000 - 0s - loss: 0.3949\n",
      "Epoch 70/100\n",
      "1000/1000 - 0s - loss: 0.3883\n",
      "Epoch 71/100\n",
      "1000/1000 - 0s - loss: 0.3821\n",
      "Epoch 72/100\n",
      "1000/1000 - 0s - loss: 0.4212\n",
      "Epoch 73/100\n",
      "1000/1000 - 0s - loss: 0.3973\n",
      "Epoch 74/100\n",
      "1000/1000 - 0s - loss: 0.3667\n",
      "Epoch 75/100\n",
      "1000/1000 - 0s - loss: 0.3915\n",
      "Epoch 76/100\n",
      "1000/1000 - 0s - loss: 0.3831\n",
      "Epoch 77/100\n",
      "1000/1000 - 0s - loss: 0.3833\n",
      "Epoch 78/100\n",
      "1000/1000 - 0s - loss: 0.3532\n",
      "Epoch 79/100\n",
      "1000/1000 - 0s - loss: 0.3771\n",
      "Epoch 80/100\n",
      "1000/1000 - 0s - loss: 0.3645\n",
      "Epoch 81/100\n",
      "1000/1000 - 0s - loss: 0.3737\n",
      "Epoch 82/100\n",
      "1000/1000 - 0s - loss: 0.3922\n",
      "Epoch 83/100\n",
      "1000/1000 - 0s - loss: 0.3875\n",
      "Epoch 84/100\n",
      "1000/1000 - 0s - loss: 0.4048\n",
      "Epoch 85/100\n",
      "1000/1000 - 0s - loss: 0.3831\n",
      "Epoch 86/100\n",
      "1000/1000 - 0s - loss: 0.4002\n",
      "Epoch 87/100\n",
      "1000/1000 - 0s - loss: 0.3854\n",
      "Epoch 88/100\n",
      "1000/1000 - 0s - loss: 0.4018\n",
      "Epoch 89/100\n",
      "1000/1000 - 0s - loss: 0.3784\n",
      "Epoch 90/100\n",
      "1000/1000 - 0s - loss: 0.4064\n",
      "Epoch 91/100\n",
      "1000/1000 - 0s - loss: 0.3994\n",
      "Epoch 92/100\n",
      "1000/1000 - 0s - loss: 0.4271\n",
      "Epoch 93/100\n",
      "1000/1000 - 0s - loss: 0.3955\n",
      "Epoch 94/100\n",
      "1000/1000 - 0s - loss: 0.3863\n",
      "Epoch 95/100\n",
      "1000/1000 - 0s - loss: 0.3778\n",
      "Epoch 96/100\n",
      "1000/1000 - 0s - loss: 0.3811\n",
      "Epoch 97/100\n",
      "1000/1000 - 0s - loss: 0.3907\n",
      "Epoch 98/100\n",
      "1000/1000 - 0s - loss: 0.3988\n",
      "Epoch 99/100\n",
      "1000/1000 - 0s - loss: 0.3775\n",
      "Epoch 100/100\n",
      "1000/1000 - 0s - loss: 0.4191\n"
     ],
     "output_type": "stream"
    },
    {
     "data": {
      "text/plain": "<tensorflow.python.keras.callbacks.History at 0x22fe9343dc8>"
     },
     "metadata": {},
     "output_type": "execute_result",
     "execution_count": 11
    }
   ],
   "source": [
    "model = tf.keras.Sequential([tf.keras.layers.Dense(output_size,\n",
    "                                                   kernel_initializer = tf.random_uniform_initializer(-0.1,0.1),\n",
    "                                                   bias_initializer = tf.random_uniform_initializer(-0.1,0.1)\n",
    "                                                   )\n",
    "                             ])\n",
    "custom_optimizer = tf.keras.optimizers.SGD(learning_rate=0.02)\n",
    "model.compile(optimizer=custom_optimizer,loss='mean_squared_error')\n",
    "model.fit(learning_data[\"inputs\"],learning_data[\"targets\"],epochs=100,verbose=2)"
   ],
   "metadata": {
    "collapsed": false,
    "pycharm": {
     "name": "#%%\n",
     "is_executing": false
    }
   }
  },
  {
   "cell_type": "code",
   "execution_count": 12,
   "outputs": [
    {
     "data": {
      "text/plain": "[array([[-3.9550438],\n        [ 7.0393343]], dtype=float32),\n array([15.013602], dtype=float32)]"
     },
     "metadata": {},
     "output_type": "execute_result",
     "execution_count": 12
    }
   ],
   "source": [
    "model.layers[0].get_weights()\n",
    "\n"
   ],
   "metadata": {
    "collapsed": false,
    "pycharm": {
     "name": "#%%\n",
     "is_executing": false
    }
   }
  },
  {
   "cell_type": "code",
   "execution_count": 13,
   "outputs": [
    {
     "data": {
      "text/plain": "array([15.013602], dtype=float32)"
     },
     "metadata": {},
     "output_type": "execute_result",
     "execution_count": 13
    }
   ],
   "source": [
    "\n",
    "bias = model.layers[0].get_weights()[1]\n",
    "bias"
   ],
   "metadata": {
    "collapsed": false,
    "pycharm": {
     "name": "#%%\n",
     "is_executing": false
    }
   }
  },
  {
   "cell_type": "code",
   "execution_count": 1,
   "outputs": [
    {
     "traceback": [
      "\u001b[1;31m---------------------------------------------------------------------------\u001b[0m",
      "\u001b[1;31mNameError\u001b[0m                                 Traceback (most recent call last)",
      "\u001b[1;32m<ipython-input-1-d76ea8c521a1>\u001b[0m in \u001b[0;36m<module>\u001b[1;34m\u001b[0m\n\u001b[1;32m----> 1\u001b[1;33m \u001b[0mweights\u001b[0m \u001b[1;33m=\u001b[0m \u001b[0mmodel\u001b[0m\u001b[1;33m.\u001b[0m\u001b[0mlayers\u001b[0m\u001b[1;33m[\u001b[0m\u001b[1;36m0\u001b[0m\u001b[1;33m]\u001b[0m\u001b[1;33m.\u001b[0m\u001b[0mget_weights\u001b[0m\u001b[1;33m(\u001b[0m\u001b[1;33m)\u001b[0m\u001b[1;33m[\u001b[0m\u001b[1;36m0\u001b[0m\u001b[1;33m]\u001b[0m\u001b[1;33m\u001b[0m\u001b[1;33m\u001b[0m\u001b[0m\n\u001b[0m\u001b[0;32m      2\u001b[0m \u001b[0mweights\u001b[0m\u001b[1;33m\u001b[0m\u001b[1;33m\u001b[0m\u001b[0m\n\u001b[0;32m      3\u001b[0m \u001b[1;33m\u001b[0m\u001b[0m\n\u001b[0;32m      4\u001b[0m \u001b[1;33m\u001b[0m\u001b[0m\n",
      "\u001b[1;31mNameError\u001b[0m: name 'model' is not defined"
     ],
     "ename": "NameError",
     "evalue": "name 'model' is not defined",
     "output_type": "error"
    }
   ],
   "source": [
    "weights = model.layers[0].get_weights()[0]\n",
    "weights\n"
   ],
   "metadata": {
    "collapsed": false,
    "pycharm": {
     "name": "#%%\n",
     "is_executing": false
    }
   }
  },
  {
   "cell_type": "code",
   "execution_count": null,
   "outputs": [],
   "source": [
    "\n"
   ],
   "metadata": {
    "collapsed": false,
    "pycharm": {
     "name": "#%%\n"
    }
   }
  }
 ],
 "metadata": {
  "kernelspec": {
   "name": "pycharm-9d5bc8c",
   "language": "python",
   "display_name": "PyCharm (learn deepLearning)"
  },
  "language_info": {
   "codemirror_mode": {
    "name": "ipython",
    "version": 2
   },
   "file_extension": ".py",
   "mimetype": "text/x-python",
   "name": "python",
   "nbconvert_exporter": "python",
   "pygments_lexer": "ipython2",
   "version": "2.7.6"
  },
  "pycharm": {
   "stem_cell": {
    "cell_type": "raw",
    "source": [],
    "metadata": {
     "collapsed": false
    }
   }
  }
 },
 "nbformat": 4,
 "nbformat_minor": 0
}